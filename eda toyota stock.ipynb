{
 "cells": [
  {
   "cell_type": "markdown",
   "id": "27c0e0dd",
   "metadata": {},
   "source": [
    "IMPORT LIBRARY"
   ]
  },
  {
   "cell_type": "code",
   "execution_count": 6,
   "id": "14e6ff2f",
   "metadata": {},
   "outputs": [],
   "source": [
    "import warnings\n",
    "warnings.filterwarnings('ignore')\n",
    "\n",
    "import numpy as np\n",
    "import pandas as pd\n",
    "import matplotlib\n",
    "matplotlib.use('Agg')\n",
    "import matplotlib.pyplot as plt\n",
    "import seaborn as sns\n",
    "\n",
    "# Set visualization style\n",
    "sns.set(style='whitegrid')"
   ]
  },
  {
   "cell_type": "markdown",
   "id": "2017017f",
   "metadata": {},
   "source": [
    "DATA LOADING"
   ]
  },
  {
   "cell_type": "code",
   "execution_count": 7,
   "id": "cfb1cdac",
   "metadata": {},
   "outputs": [
    {
     "name": "stdout",
     "output_type": "stream",
     "text": [
      "Data shape: (11414, 7)\n",
      "         date                open                high                 low  \\\n",
      "0         NaN                  TM                  TM                  TM   \n",
      "1  1980-03-17                 0.0   3.344743013381958   3.291227102279663   \n",
      "2  1980-03-18                 0.0  3.3581221103668213  3.3046059608459473   \n",
      "3  1980-03-19  3.3046059608459473  3.3046059608459473  3.3046059608459473   \n",
      "4  1980-03-20                 0.0  3.3581221103668213  3.3046059608459473   \n",
      "\n",
      "                close           adj_close volume  \n",
      "0                  TM                  TM     TM  \n",
      "1   3.291227102279663  1.8489787578582764  41109  \n",
      "2  3.3046059608459473  1.8564950227737427   9343  \n",
      "3  3.3046059608459473  1.8564950227737427      0  \n",
      "4  3.3046059608459473  1.8564950227737427  10277  \n"
     ]
    }
   ],
   "source": [
    "file_path = r'C:\\Qin\\Dummy Project\\Toyota-Stock-Data\\TOYOTA Stock Data 2025.csv'\n",
    "\n",
    "try:\n",
    "    df = pd.read_csv(file_path)\n",
    "    print('Data shape:', df.shape)\n",
    "    print(df.head())\n",
    "except Exception as e:\n",
    "    print('Error reading file:', e)\n",
    "    exit()"
   ]
  },
  {
   "cell_type": "markdown",
   "id": "e485849f",
   "metadata": {},
   "source": [
    "DATA CLEANING"
   ]
  },
  {
   "cell_type": "code",
   "execution_count": 8,
   "id": "3834daeb",
   "metadata": {},
   "outputs": [
    {
     "name": "stdout",
     "output_type": "stream",
     "text": [
      "\n",
      "Missing values:\n",
      "date         1\n",
      "open         1\n",
      "high         1\n",
      "low          1\n",
      "close        1\n",
      "adj_close    1\n",
      "volume       1\n",
      "dtype: int64\n",
      "\n",
      "Data shape after cleaning: (11413, 7)\n"
     ]
    }
   ],
   "source": [
    "# Convert 'date' to datetime\n",
    "df['date'] = pd.to_datetime(df['date'], errors='coerce')\n",
    "\n",
    "# Convert numeric columns\n",
    "numeric_cols = ['open', 'high', 'low', 'close', 'adj_close', 'volume']\n",
    "for col in numeric_cols:\n",
    "    df[col] = pd.to_numeric(df[col], errors='coerce')\n",
    "\n",
    "# Show missing data\n",
    "print('\\nMissing values:')\n",
    "print(df.isna().sum())\n",
    "\n",
    "# Drop missing rows\n",
    "df.dropna(inplace=True)\n",
    "print('\\nData shape after cleaning:', df.shape)"
   ]
  },
  {
   "cell_type": "markdown",
   "id": "f095e1a0",
   "metadata": {},
   "source": [
    "VISUALIZATION"
   ]
  },
  {
   "cell_type": "code",
   "execution_count": 9,
   "id": "fceb6bb4",
   "metadata": {},
   "outputs": [],
   "source": [
    "# Histogram of adjusted close price\n",
    "plt.figure(figsize=(10, 6))\n",
    "sns.histplot(df['adj_close'], bins=30, kde=True)\n",
    "plt.title('Distribution of Adjusted Close Prices')\n",
    "plt.xlabel('Adjusted Close Price')\n",
    "plt.ylabel('Frequency')\n",
    "plt.tight_layout()\n",
    "plt.savefig('hist_adj_close.png')\n",
    "plt.show()\n",
    "\n",
    "# Volume categories (Low, Medium, High)\n",
    "df['volume_category'] = pd.cut(df['volume'], bins=3, labels=['Low', 'Medium', 'High'])\n",
    "plt.figure(figsize=(8, 6))\n",
    "sns.countplot(x='volume_category', data=df)\n",
    "plt.title('Volume Categories')\n",
    "plt.xlabel('Volume Category')\n",
    "plt.ylabel('Count')\n",
    "plt.tight_layout()\n",
    "plt.savefig('volume_category.png')\n",
    "plt.show()\n",
    "\n",
    "# Pairplot\n",
    "sns.pairplot(df[['open', 'high', 'low', 'close', 'adj_close']])\n",
    "plt.savefig('pairplot.png')\n",
    "plt.show()\n",
    "\n",
    "# Correlation heatmap\n",
    "numeric_df = df.select_dtypes(include=[np.number])\n",
    "if numeric_df.shape[1] >= 4:\n",
    "    plt.figure(figsize=(10, 8))\n",
    "    corr_matrix = numeric_df.corr()\n",
    "    sns.heatmap(corr_matrix, annot=True, cmap='coolwarm', linewidths=0.5)\n",
    "    plt.title('Correlation Heatmap')\n",
    "    plt.tight_layout()\n",
    "    plt.savefig('correlation_heatmap.png')\n",
    "    plt.show()\n",
    "else:\n",
    "    print('Not enough numeric columns for correlation heatmap.')"
   ]
  }
 ],
 "metadata": {
  "kernelspec": {
   "display_name": "Python 3",
   "language": "python",
   "name": "python3"
  },
  "language_info": {
   "codemirror_mode": {
    "name": "ipython",
    "version": 3
   },
   "file_extension": ".py",
   "mimetype": "text/x-python",
   "name": "python",
   "nbconvert_exporter": "python",
   "pygments_lexer": "ipython3",
   "version": "3.10.6"
  }
 },
 "nbformat": 4,
 "nbformat_minor": 5
}
